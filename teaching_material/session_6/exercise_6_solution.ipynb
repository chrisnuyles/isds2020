{
 "cells": [
  {
   "cell_type": "markdown",
   "metadata": {},
   "source": [
    "> **Note:** In most sessions you will be solving exercises posed in a Jupyter notebook that looks like this one. Because you are cloning a Github repository that only we can push to, you should **NEVER EDIT** any of the files you pull from Github. Instead, what you should do, is either make a new notebook and write your solutions in there, or **make a copy of this notebook and save it somewhere else** on your computer, not inside the `sds` folder that you cloned, so you can write your answers in there. If you edit the notebook you pulled from Github, those edits (possible your solutions to the exercises) may be overwritten and lost the next time you pull from Github. This is important, so don't hesitate to ask if it is unclear."
   ]
  },
  {
   "cell_type": "markdown",
   "metadata": {},
   "source": [
    "## Use Connector class for accessing the internet\n",
    "Even if logging is not important for the below exercises, get in the habit of using this class for connecting to the internet, to practice logging your activity. This will be expected in the final exam.\n",
    "\n",
    "You should run `pip install scraping_class` to install the module to be used."
   ]
  },
  {
   "cell_type": "code",
   "execution_count": 3,
   "metadata": {},
   "outputs": [],
   "source": [
    "import scraping_class\n",
    "logfile = 'log.csv'## name your log file.\n",
    "connector = scraping_class.Connector(logfile)"
   ]
  },
  {
   "cell_type": "markdown",
   "metadata": {
    "ExecuteTime": {
     "end_time": "2017-08-23T15:30:03.634114Z",
     "start_time": "2017-08-23T15:30:03.629294Z"
    }
   },
   "source": [
    "# Exercise Set 6: Introduction to Web Scraping\n",
    "\n",
    "In this Exercise Set we shall practice our webscraping skills utiilizing only basic python.  \n",
    "We shall cover variations between static and dynamic pages and build. "
   ]
  },
  {
   "cell_type": "markdown",
   "metadata": {},
   "source": [
    "## Exercise Section 6.1: Scraping Jobnet.dk\n",
    "\n",
    "This exercise you get to practice locating the request that the JavaScript sends to get the job data that it builds the joblistings from. You should use the **>Network Monitor<** tool in your browser.\n",
    "\n",
    "Furthermore you practice spotting how the pagination is done, without clicking on the next page button, but instead changing a small parameter in the URL."
   ]
  },
  {
   "cell_type": "markdown",
   "metadata": {},
   "source": [
    "> **Ex. 6.1.1:** Go to  www.jobnet.dk and investigate the page. Figure our waht url you need to scrape to collect jobposting data. Sometimes this can be hard and requires you to inspect the page and look in the **>Network Monitor<** by filtering by XHR files.\n",
    "\n",
    "> **Ex. 6.1.2.:** Use the `request` module to collect the first 20 results and unpack the relevant `json` data into a `pandas` DataFrame.\n",
    "\n",
    "> **Ex. 6.1.3.:** Store the 'TotalResultCount' value for later use."
   ]
  },
  {
   "cell_type": "code",
   "execution_count": 2,
   "metadata": {},
   "outputs": [],
   "source": [
    "# [Answer to Ex. 6.1.1-3 here]"
   ]
  },
  {
   "cell_type": "markdown",
   "metadata": {},
   "source": [
    "> **Ex. 6.1.4:** This exercise is about paging the results. We need to understand the websites pagination scheme. \n",
    "\n",
    "> Now scroll down the webpage and press the next page button. See how the parameters of the url changes as you turn the pages.\n",
    "\n",
    "> **Ex. 6.1.5:** Design a`for` loop using the `range` function that changes this paging parameter in the URL. Use the TotalResultCount parameter from before to define the limits of the range function. Store these urls in a container. \n",
    "\n",
    ">**extra** Change the SortValue parameter from BestMatch to CreationDate, to make the sorting amendable to updating results daily.\n",
    "\n",
    "*(HINT: See that the parameter is an offset and that this relates to the number of results pr. call made.)*"
   ]
  },
  {
   "cell_type": "code",
   "execution_count": 4,
   "metadata": {},
   "outputs": [],
   "source": [
    "# [Answer to Ex. 6.1.4-5 here]"
   ]
  },
  {
   "cell_type": "code",
   "execution_count": 5,
   "metadata": {},
   "outputs": [],
   "source": [
    "q = 'https://job.jobnet.dk/CV/FindWork/Search?SortValue=CreationDate&Offset=%d'\n",
    "links = []\n",
    "for offset in range(0,n_listings+20,20):\n",
    "    url = q%offset\n",
    "    links.append(url)"
   ]
  },
  {
   "cell_type": "markdown",
   "metadata": {},
   "source": [
    "> **Ex.6.1.6:** Pick 20 random links using the `random.sample()` function and collect them using the `Connector` class. Also use the `time.sleep()` function to limit the rate of your calls. Make sure to save the links already collected in a `set()` container to avoid having to reload links already collected. ***extra***: monitor the time left to completing the loop by using `tqdm.tqdm()` function.\n",
    "\n",
    "> **Ex.6.1.7:** Load all the results into a DataFrame."
   ]
  },
  {
   "cell_type": "code",
   "execution_count": 6,
   "metadata": {},
   "outputs": [],
   "source": [
    "# [Answer to Ex. 6.1.6-7 here]"
   ]
  },
  {
   "cell_type": "code",
   "execution_count": 7,
   "metadata": {},
   "outputs": [
    {
     "name": "stderr",
     "output_type": "stream",
     "text": [
      "100%|██████████| 20/20 [00:26<00:00,  1.34s/it]\n"
     ]
    },
    {
     "data": {
      "text/html": [
       "<div>\n",
       "<style scoped>\n",
       "    .dataframe tbody tr th:only-of-type {\n",
       "        vertical-align: middle;\n",
       "    }\n",
       "\n",
       "    .dataframe tbody tr th {\n",
       "        vertical-align: top;\n",
       "    }\n",
       "\n",
       "    .dataframe thead th {\n",
       "        text-align: right;\n",
       "    }\n",
       "</style>\n",
       "<table border=\"1\" class=\"dataframe\">\n",
       "  <thead>\n",
       "    <tr style=\"text-align: right;\">\n",
       "      <th></th>\n",
       "      <th>AutomatchType</th>\n",
       "      <th>Abroad</th>\n",
       "      <th>Weight</th>\n",
       "      <th>Title</th>\n",
       "      <th>JobHeadline</th>\n",
       "      <th>Presentation</th>\n",
       "      <th>HiringOrgName</th>\n",
       "      <th>WorkPlaceAddress</th>\n",
       "      <th>WorkPlacePostalCode</th>\n",
       "      <th>WorkPlaceCity</th>\n",
       "      <th>...</th>\n",
       "      <th>HiringOrgCVR</th>\n",
       "      <th>UserLoggedIn</th>\n",
       "      <th>AnonymousEmployer</th>\n",
       "      <th>ShareUrl</th>\n",
       "      <th>DetailsUrl</th>\n",
       "      <th>JobLogUrl</th>\n",
       "      <th>HasLocationValues</th>\n",
       "      <th>ID</th>\n",
       "      <th>Latitude</th>\n",
       "      <th>Longitude</th>\n",
       "    </tr>\n",
       "  </thead>\n",
       "  <tbody>\n",
       "    <tr>\n",
       "      <th>133</th>\n",
       "      <td>0</td>\n",
       "      <td>False</td>\n",
       "      <td>1.0</td>\n",
       "      <td>Servicetekniker</td>\n",
       "      <td>Servicetekniker med fokus på mellemspænding</td>\n",
       "      <td>Servicetekniker med fokus på mellemspænding AN...</td>\n",
       "      <td>ABB A/S</td>\n",
       "      <td>Meterbuen 33</td>\n",
       "      <td>2740</td>\n",
       "      <td>Skovlunde</td>\n",
       "      <td>...</td>\n",
       "      <td>0</td>\n",
       "      <td>False</td>\n",
       "      <td>False</td>\n",
       "      <td>http://new.abb.com/jobs/da/details/DK75491675_E1</td>\n",
       "      <td>None</td>\n",
       "      <td>http://new.abb.com/jobs/da/details/DK75491675_E1</td>\n",
       "      <td>True</td>\n",
       "      <td>E7657841</td>\n",
       "      <td>55.7202</td>\n",
       "      <td>12.4171</td>\n",
       "    </tr>\n",
       "    <tr>\n",
       "      <th>70</th>\n",
       "      <td>0</td>\n",
       "      <td>False</td>\n",
       "      <td>1.0</td>\n",
       "      <td>Commercial Manager</td>\n",
       "      <td>Commercial Manager til CBB Mobil</td>\n",
       "      <td>Cookie Policy\\nchecked Nødvendige cookies\\nche...</td>\n",
       "      <td>CBB Mobil A/S</td>\n",
       "      <td>Rødovrevej 395</td>\n",
       "      <td>2610</td>\n",
       "      <td>Rødovre</td>\n",
       "      <td>...</td>\n",
       "      <td>0</td>\n",
       "      <td>False</td>\n",
       "      <td>False</td>\n",
       "      <td>https://candidate.hr-manager.net/ApplicationIn...</td>\n",
       "      <td>None</td>\n",
       "      <td>https://candidate.hr-manager.net/ApplicationIn...</td>\n",
       "      <td>True</td>\n",
       "      <td>E7668338</td>\n",
       "      <td>55.7008</td>\n",
       "      <td>12.4548</td>\n",
       "    </tr>\n",
       "    <tr>\n",
       "      <th>141</th>\n",
       "      <td>0</td>\n",
       "      <td>False</td>\n",
       "      <td>1.0</td>\n",
       "      <td>Kombineret Kantine- og rengøringsmedarbejder t...</td>\n",
       "      <td>Kombineret Kantine- og rengøringsmedarbejder t...</td>\n",
       "      <td>Til en kombineret stilling med rengøring og ...</td>\n",
       "      <td>Give idræt sundhed og kulturcenter</td>\n",
       "      <td>Torvegade 75A</td>\n",
       "      <td>7323</td>\n",
       "      <td>Give</td>\n",
       "      <td>...</td>\n",
       "      <td>39062399</td>\n",
       "      <td>False</td>\n",
       "      <td>False</td>\n",
       "      <td>https://job.jobnet.dk/CV/FindWork/DetailsSocia...</td>\n",
       "      <td>https://job.jobnet.dk/CV/FindWork/Details/5176441</td>\n",
       "      <td>https://job.jobnet.dk/CV/FindWork/Details/5176441</td>\n",
       "      <td>True</td>\n",
       "      <td>5176441</td>\n",
       "      <td>55.8409</td>\n",
       "      <td>9.2477</td>\n",
       "    </tr>\n",
       "    <tr>\n",
       "      <th>395</th>\n",
       "      <td>0</td>\n",
       "      <td>False</td>\n",
       "      <td>1.0</td>\n",
       "      <td>Salgsansvarlig</td>\n",
       "      <td>SALGSANSVARLIG DATAAFDELING</td>\n",
       "      <td>SALGSANSVARLIG DATAAFDELING\\nVil du sætte fart...</td>\n",
       "      <td>Elgiganten</td>\n",
       "      <td>Gammel Lyngvej 21</td>\n",
       "      <td>4600</td>\n",
       "      <td>Køge</td>\n",
       "      <td>...</td>\n",
       "      <td>0</td>\n",
       "      <td>False</td>\n",
       "      <td>False</td>\n",
       "      <td>https://candidate.hr-manager.net/ApplicationIn...</td>\n",
       "      <td>None</td>\n",
       "      <td>https://candidate.hr-manager.net/ApplicationIn...</td>\n",
       "      <td>True</td>\n",
       "      <td>E7651935</td>\n",
       "      <td>55.4553</td>\n",
       "      <td>12.2201</td>\n",
       "    </tr>\n",
       "    <tr>\n",
       "      <th>320</th>\n",
       "      <td>0</td>\n",
       "      <td>False</td>\n",
       "      <td>1.0</td>\n",
       "      <td>Lægesekretær til Nyremedicinsk Amb., OUH</td>\n",
       "      <td>Lægesekretær til Nyremedicinsk Amb., OUH</td>\n",
       "      <td>Til sekretariatet under Nyremedicinsk Ambulato...</td>\n",
       "      <td>Odense Universitets Hospital</td>\n",
       "      <td>Sdr. Boulevard 29</td>\n",
       "      <td>5000</td>\n",
       "      <td>Odense C</td>\n",
       "      <td>...</td>\n",
       "      <td>29190909</td>\n",
       "      <td>False</td>\n",
       "      <td>False</td>\n",
       "      <td>https://job.jobnet.dk/CV/FindWork/DetailsSocia...</td>\n",
       "      <td>https://job.jobnet.dk/CV/FindWork/Details/5188407</td>\n",
       "      <td>https://job.jobnet.dk/CV/FindWork/Details/5188407</td>\n",
       "      <td>True</td>\n",
       "      <td>5188407</td>\n",
       "      <td>55.3848</td>\n",
       "      <td>10.3715</td>\n",
       "    </tr>\n",
       "  </tbody>\n",
       "</table>\n",
       "<p>5 rows × 46 columns</p>\n",
       "</div>"
      ],
      "text/plain": [
       "     AutomatchType  Abroad  Weight  \\\n",
       "133              0   False     1.0   \n",
       "70               0   False     1.0   \n",
       "141              0   False     1.0   \n",
       "395              0   False     1.0   \n",
       "320              0   False     1.0   \n",
       "\n",
       "                                                 Title  \\\n",
       "133                                    Servicetekniker   \n",
       "70                                  Commercial Manager   \n",
       "141  Kombineret Kantine- og rengøringsmedarbejder t...   \n",
       "395                                     Salgsansvarlig   \n",
       "320           Lægesekretær til Nyremedicinsk Amb., OUH   \n",
       "\n",
       "                                           JobHeadline  \\\n",
       "133        Servicetekniker med fokus på mellemspænding   \n",
       "70                    Commercial Manager til CBB Mobil   \n",
       "141  Kombineret Kantine- og rengøringsmedarbejder t...   \n",
       "395                        SALGSANSVARLIG DATAAFDELING   \n",
       "320           Lægesekretær til Nyremedicinsk Amb., OUH   \n",
       "\n",
       "                                          Presentation  \\\n",
       "133  Servicetekniker med fokus på mellemspænding AN...   \n",
       "70   Cookie Policy\\nchecked Nødvendige cookies\\nche...   \n",
       "141    Til en kombineret stilling med rengøring og ...   \n",
       "395  SALGSANSVARLIG DATAAFDELING\\nVil du sætte fart...   \n",
       "320  Til sekretariatet under Nyremedicinsk Ambulato...   \n",
       "\n",
       "                          HiringOrgName   WorkPlaceAddress  \\\n",
       "133                             ABB A/S       Meterbuen 33   \n",
       "70                        CBB Mobil A/S     Rødovrevej 395   \n",
       "141  Give idræt sundhed og kulturcenter      Torvegade 75A   \n",
       "395                          Elgiganten  Gammel Lyngvej 21   \n",
       "320        Odense Universitets Hospital  Sdr. Boulevard 29   \n",
       "\n",
       "    WorkPlacePostalCode WorkPlaceCity  ...  HiringOrgCVR  UserLoggedIn  \\\n",
       "133                2740     Skovlunde  ...             0         False   \n",
       "70                 2610       Rødovre  ...             0         False   \n",
       "141                7323          Give  ...      39062399         False   \n",
       "395                4600          Køge  ...             0         False   \n",
       "320                5000      Odense C  ...      29190909         False   \n",
       "\n",
       "     AnonymousEmployer                                           ShareUrl  \\\n",
       "133              False   http://new.abb.com/jobs/da/details/DK75491675_E1   \n",
       "70               False  https://candidate.hr-manager.net/ApplicationIn...   \n",
       "141              False  https://job.jobnet.dk/CV/FindWork/DetailsSocia...   \n",
       "395              False  https://candidate.hr-manager.net/ApplicationIn...   \n",
       "320              False  https://job.jobnet.dk/CV/FindWork/DetailsSocia...   \n",
       "\n",
       "                                            DetailsUrl  \\\n",
       "133                                               None   \n",
       "70                                                None   \n",
       "141  https://job.jobnet.dk/CV/FindWork/Details/5176441   \n",
       "395                                               None   \n",
       "320  https://job.jobnet.dk/CV/FindWork/Details/5188407   \n",
       "\n",
       "                                             JobLogUrl HasLocationValues  \\\n",
       "133   http://new.abb.com/jobs/da/details/DK75491675_E1              True   \n",
       "70   https://candidate.hr-manager.net/ApplicationIn...              True   \n",
       "141  https://job.jobnet.dk/CV/FindWork/Details/5176441              True   \n",
       "395  https://candidate.hr-manager.net/ApplicationIn...              True   \n",
       "320  https://job.jobnet.dk/CV/FindWork/Details/5188407              True   \n",
       "\n",
       "           ID  Latitude  Longitude  \n",
       "133  E7657841   55.7202    12.4171  \n",
       "70   E7668338   55.7008    12.4548  \n",
       "141   5176441   55.8409     9.2477  \n",
       "395  E7651935   55.4553    12.2201  \n",
       "320   5188407   55.3848    10.3715  \n",
       "\n",
       "[5 rows x 46 columns]"
      ]
     },
     "execution_count": 7,
     "metadata": {},
     "output_type": "execute_result"
    }
   ],
   "source": [
    "import random\n",
    "import time\n",
    "done = set()\n",
    "data = []\n",
    "import tqdm\n",
    "for url in tqdm.tqdm(random.sample(links,20)):\n",
    "    response,call_id = connector.get(url,'download_jobposting')\n",
    "    if response.ok:\n",
    "        d = response.json()\n",
    "    else:\n",
    "        print('error')\n",
    "    data += d['JobPositionPostings']\n",
    "    time.sleep(0.5)\n",
    "df = pd.DataFrame(data)\n",
    "df.sample(5)"
   ]
  },
  {
   "cell_type": "markdown",
   "metadata": {},
   "source": [
    "## Exercise Section 6.2: Scraping Trustpilot.com\n",
    "Now for a slightly more elaborate, yet still simple scraping problem. Here we want to scrape trustpilot for user reviews. This data is very nice since it provides free labeled data (rating) to train a machine learning model to understand positive and negative sentiment. \n",
    "\n",
    "Here you will practice crawling a website collecting the links to each company review page, and finally locate another behind the scenes JavaScript request that gets the review data in a neat json format."
   ]
  },
  {
   "cell_type": "markdown",
   "metadata": {},
   "source": [
    "> **Ex. 6.2.1:** Visit the https://www.trustpilot.com/ website and locate the categories page.\n",
    "From this page you find links to company listings.\n",
    "\n",
    "> **Ex. 6.2.2:**\n",
    "Get the category page using the `requests` module and extract each link to a specific category page from the HTML. This can be done using the basic python `.split()` string method. Make sure only links within the ***/categories/*** section are kept, checking each string using the ```if 'pattern' in string``` condition. \n",
    "\n",
    "*(Hint: The links are relative. You need to add the domain name)*\n"
   ]
  },
  {
   "cell_type": "code",
   "execution_count": 8,
   "metadata": {},
   "outputs": [],
   "source": [
    "# [Answer to Ex. 6.2.1-2]"
   ]
  },
  {
   "cell_type": "code",
   "execution_count": 11,
   "metadata": {},
   "outputs": [
    {
     "name": "stdout",
     "output_type": "stream",
     "text": [
      "209 /categories/waste_management\n"
     ]
    },
    {
     "data": {
      "text/plain": [
       "['https://www.trustpilot.com/categories/waste_management',\n",
       " 'https://www.trustpilot.com/categories/cosmetics_makeup',\n",
       " 'https://www.trustpilot.com/categories/food_beverages_tobacco',\n",
       " 'https://www.trustpilot.com/categories/hospital_emergency',\n",
       " 'https://www.trustpilot.com/categories/general_restaurants',\n",
       " 'https://www.trustpilot.com/categories/takeaway',\n",
       " 'https://www.trustpilot.com/categories/chemicals_plastic',\n",
       " 'https://www.trustpilot.com/categories/cleaning_service_providers',\n",
       " 'https://www.trustpilot.com/categories/middle_eastern_cuisine',\n",
       " 'https://www.trustpilot.com/categories/employment_career']"
      ]
     },
     "execution_count": 11,
     "metadata": {},
     "output_type": "execute_result"
    }
   ],
   "source": [
    "url = 'https://www.trustpilot.com/categories'\n",
    "response,call_id = connector.get(url,'mapping_categories')\n",
    "if response.ok:\n",
    "    html = response.text\n",
    "else:\n",
    "    print('error')\n",
    "links = set()\n",
    "for link_loc in html.split('href=\"')[1:]:\n",
    "    link = link_loc.split('\"')[0]\n",
    "    if '/categories/' in link:\n",
    "        links.add(link)\n",
    "print(len(links),list(links)[0]) # link is relative\n",
    "links = ['https://www.trustpilot.com'+link for link in links]# add the domain to each link\n",
    "links[:10]"
   ]
  },
  {
   "cell_type": "markdown",
   "metadata": {},
   "source": [
    "> **Ex. 6.2.3:** Get one of the category section links. Write a function to extract the links to the company review page from the HTML.\n",
    "\n",
    "> **Ex. 6.2.4:** Figure out how the pagination is done, by following how the url changes when pressing the **next page**-button to obtain more company listings. Write a function that builds links to paging all the company listing results of each category. This includes parsing the number of subpages of each category and changing the correct parameter in the url.\n",
    "\n",
    "(Hint: Find the maximum number of result pages, right before the next page button and make a loop change the page parameter of the url.)\n"
   ]
  },
  {
   "cell_type": "code",
   "execution_count": 12,
   "metadata": {},
   "outputs": [],
   "source": [
    "#[Answer to Ex.6.2.3-4]"
   ]
  },
  {
   "cell_type": "code",
   "execution_count": 13,
   "metadata": {},
   "outputs": [
    {
     "name": "stdout",
     "output_type": "stream",
     "text": [
      "37\n"
     ]
    }
   ],
   "source": [
    "url = 'https://www.trustpilot.com/categories/art'\n",
    "response, _ = connector.get(url,'mapping')\n",
    "if response.ok:\n",
    "    html = response.text\n",
    "else:\n",
    "    print('error')\n",
    "def get_links(html):\n",
    "    links = set() # define container\n",
    "    for link_loc in html.split('href=\"')[1:]: # locate the start of a link\n",
    "        link = link_loc.split('\"')[0] # split at the end of the link\n",
    "        links.add(link) # if it is: add it to the set container\n",
    "    return links\n",
    "def get_company_links(html):\n",
    "    company_links = [link for link in get_links(html) if '/review/' in link] # check if the /review/ pattern is in the link\n",
    "    return company_links\n",
    "company_links = get_company_links(html)\n",
    "print(len(company_links))\n",
    "def get_all_category_pages(category_link):\n",
    "    response, _ = connector.get(category_link,'mapping_categories')\n",
    "    if response.ok:\n",
    "        html = response.text\n",
    "    else:\n",
    "        print('error')\n",
    "        return False\n",
    "    links = get_links(html)\n",
    "    # find the max_page.\n",
    "    page_links = [link for link in links if '?page=' in link] # check if the paging parameter is in the link\n",
    "    if len(page_links)==0: # no pages.\n",
    "        return [category_link]\n",
    "    n_pages = max([int(link.split('page=')[-1]) for link in page_links]) # extract the page value and take the max\n",
    "    paging_links = [category_link] # define container and store the original result page\n",
    "    q = category_link+'?page=%d' # define the varying parameter string.\n",
    "    for num in range(2,n_pages+1): # build the links.\n",
    "        paging_links.append(q%num)\n",
    "    return paging_links"
   ]
  },
  {
   "cell_type": "code",
   "execution_count": 14,
   "metadata": {
    "collapsed": true
   },
   "outputs": [
    {
     "data": {
      "text/plain": [
       "['/review/www.crystalcentral.com',\n",
       " '/review/stuff4crafts.com',\n",
       " '/review/www.icanvas.com',\n",
       " '/review/digitalzenify.com',\n",
       " '/review/sparklesmakeitspecial.com',\n",
       " '/review/www.stampanniething.com',\n",
       " '/review/www.canvasgicleeprinting.com',\n",
       " '/review/supremepawtrait.com',\n",
       " '/review/www.paleodirect.com',\n",
       " '/review/makeshirtsnow.com',\n",
       " '/review/modernpostcard.com',\n",
       " '/review/investivtg.com',\n",
       " '/review/paradiseawards.com',\n",
       " '/review/mixbook.com',\n",
       " '/review/h-fconsulting.com',\n",
       " '/review/outbyte.com',\n",
       " '/review/nametagcountry.com',\n",
       " '/review/tailorbrands.com',\n",
       " '/review/www.moo.com',\n",
       " '/review/www.handmadepiece.com',\n",
       " '/review/matboardandmore.com',\n",
       " '/review/thenightsky.io',\n",
       " '/review/candlemaking.com',\n",
       " '/review/nicebadge.com',\n",
       " '/review/www.refund123.com',\n",
       " '/review/www.fineartamerica.com',\n",
       " '/review/brandcrowd.com',\n",
       " '/review/jasper52.com',\n",
       " '/review/www.deviantart.com',\n",
       " '/review/www.greatbigcanvas.com',\n",
       " '/review/bestsuratsarees.com',\n",
       " '/review/koffee-express.com',\n",
       " '/review/zatista.com',\n",
       " '/review/hodgesbadge.com',\n",
       " '/review/diplomamakers.com',\n",
       " '/review/diyawards.com',\n",
       " '/review/stockmarketbase.co']"
      ]
     },
     "execution_count": 14,
     "metadata": {},
     "output_type": "execute_result"
    }
   ],
   "source": [
    "company_links"
   ]
  },
  {
   "cell_type": "markdown",
   "metadata": {},
   "source": [
    "> **Ex. 6.2.5:** Loop through all categories and build the paging links using the above defined function.\n",
    "\n",
    "> **Ex. 6.2.6:** Randomly pick one of category listing links you have generated, and get the links to the companies listed using the other function defined. \n",
    "\n",
    "> **Ex. 6.2.7:** Visit one of these links and inspect the **>Network Monitor<** to locate the request that loads the review data. Use the requests module to retrieve this link and unpack the json results to a pandas DataFrame.\n"
   ]
  },
  {
   "cell_type": "code",
   "execution_count": 15,
   "metadata": {},
   "outputs": [],
   "source": [
    "#[Answer to Ex.6.2.5-7]"
   ]
  },
  {
   "cell_type": "code",
   "execution_count": 16,
   "metadata": {
    "collapsed": true
   },
   "outputs": [
    {
     "name": "stdout",
     "output_type": "stream",
     "text": [
      "We need to visit 1256 company listing pages to collect all company addresses\n"
     ]
    },
    {
     "ename": "JSONDecodeError",
     "evalue": "Expecting value: line 4 column 1 (char 3)",
     "output_type": "error",
     "traceback": [
      "\u001b[0;31m---------------------------------------------------------------------------\u001b[0m",
      "\u001b[0;31mJSONDecodeError\u001b[0m                           Traceback (most recent call last)",
      "\u001b[0;32m<ipython-input-16-2d2c126c25b9>\u001b[0m in \u001b[0;36m<module>\u001b[0;34m\u001b[0m\n\u001b[1;32m     11\u001b[0m \u001b[0mdirect_link\u001b[0m \u001b[0;34m=\u001b[0m \u001b[0;34m'https://www.trustpilot.com/review/59f33de00000ff0005aed171/jsonld'\u001b[0m\u001b[0;34m\u001b[0m\u001b[0;34m\u001b[0m\u001b[0m\n\u001b[1;32m     12\u001b[0m \u001b[0mresponse\u001b[0m\u001b[0;34m,\u001b[0m \u001b[0mcall_id\u001b[0m \u001b[0;34m=\u001b[0m \u001b[0mconnector\u001b[0m\u001b[0;34m.\u001b[0m\u001b[0mget\u001b[0m\u001b[0;34m(\u001b[0m\u001b[0mdirect_link\u001b[0m\u001b[0;34m,\u001b[0m \u001b[0;34m'download_review'\u001b[0m\u001b[0;34m)\u001b[0m\u001b[0;34m\u001b[0m\u001b[0;34m\u001b[0m\u001b[0m\n\u001b[0;32m---> 13\u001b[0;31m \u001b[0md\u001b[0m \u001b[0;34m=\u001b[0m \u001b[0mresponse\u001b[0m\u001b[0;34m.\u001b[0m\u001b[0mjson\u001b[0m\u001b[0;34m(\u001b[0m\u001b[0;34m)\u001b[0m \u001b[0;31m# parse json using the build-in function.\u001b[0m\u001b[0;34m\u001b[0m\u001b[0;34m\u001b[0m\u001b[0m\n\u001b[0m\u001b[1;32m     14\u001b[0m \u001b[0mdf\u001b[0m \u001b[0;34m=\u001b[0m \u001b[0mpd\u001b[0m\u001b[0;34m.\u001b[0m\u001b[0mDataFrame\u001b[0m\u001b[0;34m(\u001b[0m\u001b[0md\u001b[0m\u001b[0;34m[\u001b[0m\u001b[0;36m0\u001b[0m\u001b[0;34m]\u001b[0m\u001b[0;34m[\u001b[0m\u001b[0;34m'review'\u001b[0m\u001b[0;34m]\u001b[0m\u001b[0;34m)\u001b[0m\u001b[0;34m\u001b[0m\u001b[0;34m\u001b[0m\u001b[0m\n\u001b[1;32m     15\u001b[0m \u001b[0mdf\u001b[0m\u001b[0;34m.\u001b[0m\u001b[0mhead\u001b[0m\u001b[0;34m(\u001b[0m\u001b[0;34m)\u001b[0m\u001b[0;34m\u001b[0m\u001b[0;34m\u001b[0m\u001b[0m\n",
      "\u001b[0;32m~/opt/anaconda3/lib/python3.7/site-packages/requests/models.py\u001b[0m in \u001b[0;36mjson\u001b[0;34m(self, **kwargs)\u001b[0m\n\u001b[1;32m    895\u001b[0m                     \u001b[0;31m# used.\u001b[0m\u001b[0;34m\u001b[0m\u001b[0;34m\u001b[0m\u001b[0;34m\u001b[0m\u001b[0m\n\u001b[1;32m    896\u001b[0m                     \u001b[0;32mpass\u001b[0m\u001b[0;34m\u001b[0m\u001b[0;34m\u001b[0m\u001b[0m\n\u001b[0;32m--> 897\u001b[0;31m         \u001b[0;32mreturn\u001b[0m \u001b[0mcomplexjson\u001b[0m\u001b[0;34m.\u001b[0m\u001b[0mloads\u001b[0m\u001b[0;34m(\u001b[0m\u001b[0mself\u001b[0m\u001b[0;34m.\u001b[0m\u001b[0mtext\u001b[0m\u001b[0;34m,\u001b[0m \u001b[0;34m**\u001b[0m\u001b[0mkwargs\u001b[0m\u001b[0;34m)\u001b[0m\u001b[0;34m\u001b[0m\u001b[0;34m\u001b[0m\u001b[0m\n\u001b[0m\u001b[1;32m    898\u001b[0m \u001b[0;34m\u001b[0m\u001b[0m\n\u001b[1;32m    899\u001b[0m     \u001b[0;34m@\u001b[0m\u001b[0mproperty\u001b[0m\u001b[0;34m\u001b[0m\u001b[0;34m\u001b[0m\u001b[0m\n",
      "\u001b[0;32m~/opt/anaconda3/lib/python3.7/json/__init__.py\u001b[0m in \u001b[0;36mloads\u001b[0;34m(s, encoding, cls, object_hook, parse_float, parse_int, parse_constant, object_pairs_hook, **kw)\u001b[0m\n\u001b[1;32m    346\u001b[0m             \u001b[0mparse_int\u001b[0m \u001b[0;32mis\u001b[0m \u001b[0;32mNone\u001b[0m \u001b[0;32mand\u001b[0m \u001b[0mparse_float\u001b[0m \u001b[0;32mis\u001b[0m \u001b[0;32mNone\u001b[0m \u001b[0;32mand\u001b[0m\u001b[0;34m\u001b[0m\u001b[0;34m\u001b[0m\u001b[0m\n\u001b[1;32m    347\u001b[0m             parse_constant is None and object_pairs_hook is None and not kw):\n\u001b[0;32m--> 348\u001b[0;31m         \u001b[0;32mreturn\u001b[0m \u001b[0m_default_decoder\u001b[0m\u001b[0;34m.\u001b[0m\u001b[0mdecode\u001b[0m\u001b[0;34m(\u001b[0m\u001b[0ms\u001b[0m\u001b[0;34m)\u001b[0m\u001b[0;34m\u001b[0m\u001b[0;34m\u001b[0m\u001b[0m\n\u001b[0m\u001b[1;32m    349\u001b[0m     \u001b[0;32mif\u001b[0m \u001b[0mcls\u001b[0m \u001b[0;32mis\u001b[0m \u001b[0;32mNone\u001b[0m\u001b[0;34m:\u001b[0m\u001b[0;34m\u001b[0m\u001b[0;34m\u001b[0m\u001b[0m\n\u001b[1;32m    350\u001b[0m         \u001b[0mcls\u001b[0m \u001b[0;34m=\u001b[0m \u001b[0mJSONDecoder\u001b[0m\u001b[0;34m\u001b[0m\u001b[0;34m\u001b[0m\u001b[0m\n",
      "\u001b[0;32m~/opt/anaconda3/lib/python3.7/json/decoder.py\u001b[0m in \u001b[0;36mdecode\u001b[0;34m(self, s, _w)\u001b[0m\n\u001b[1;32m    335\u001b[0m \u001b[0;34m\u001b[0m\u001b[0m\n\u001b[1;32m    336\u001b[0m         \"\"\"\n\u001b[0;32m--> 337\u001b[0;31m         \u001b[0mobj\u001b[0m\u001b[0;34m,\u001b[0m \u001b[0mend\u001b[0m \u001b[0;34m=\u001b[0m \u001b[0mself\u001b[0m\u001b[0;34m.\u001b[0m\u001b[0mraw_decode\u001b[0m\u001b[0;34m(\u001b[0m\u001b[0ms\u001b[0m\u001b[0;34m,\u001b[0m \u001b[0midx\u001b[0m\u001b[0;34m=\u001b[0m\u001b[0m_w\u001b[0m\u001b[0;34m(\u001b[0m\u001b[0ms\u001b[0m\u001b[0;34m,\u001b[0m \u001b[0;36m0\u001b[0m\u001b[0;34m)\u001b[0m\u001b[0;34m.\u001b[0m\u001b[0mend\u001b[0m\u001b[0;34m(\u001b[0m\u001b[0;34m)\u001b[0m\u001b[0;34m)\u001b[0m\u001b[0;34m\u001b[0m\u001b[0;34m\u001b[0m\u001b[0m\n\u001b[0m\u001b[1;32m    338\u001b[0m         \u001b[0mend\u001b[0m \u001b[0;34m=\u001b[0m \u001b[0m_w\u001b[0m\u001b[0;34m(\u001b[0m\u001b[0ms\u001b[0m\u001b[0;34m,\u001b[0m \u001b[0mend\u001b[0m\u001b[0;34m)\u001b[0m\u001b[0;34m.\u001b[0m\u001b[0mend\u001b[0m\u001b[0;34m(\u001b[0m\u001b[0;34m)\u001b[0m\u001b[0;34m\u001b[0m\u001b[0;34m\u001b[0m\u001b[0m\n\u001b[1;32m    339\u001b[0m         \u001b[0;32mif\u001b[0m \u001b[0mend\u001b[0m \u001b[0;34m!=\u001b[0m \u001b[0mlen\u001b[0m\u001b[0;34m(\u001b[0m\u001b[0ms\u001b[0m\u001b[0;34m)\u001b[0m\u001b[0;34m:\u001b[0m\u001b[0;34m\u001b[0m\u001b[0;34m\u001b[0m\u001b[0m\n",
      "\u001b[0;32m~/opt/anaconda3/lib/python3.7/json/decoder.py\u001b[0m in \u001b[0;36mraw_decode\u001b[0;34m(self, s, idx)\u001b[0m\n\u001b[1;32m    353\u001b[0m             \u001b[0mobj\u001b[0m\u001b[0;34m,\u001b[0m \u001b[0mend\u001b[0m \u001b[0;34m=\u001b[0m \u001b[0mself\u001b[0m\u001b[0;34m.\u001b[0m\u001b[0mscan_once\u001b[0m\u001b[0;34m(\u001b[0m\u001b[0ms\u001b[0m\u001b[0;34m,\u001b[0m \u001b[0midx\u001b[0m\u001b[0;34m)\u001b[0m\u001b[0;34m\u001b[0m\u001b[0;34m\u001b[0m\u001b[0m\n\u001b[1;32m    354\u001b[0m         \u001b[0;32mexcept\u001b[0m \u001b[0mStopIteration\u001b[0m \u001b[0;32mas\u001b[0m \u001b[0merr\u001b[0m\u001b[0;34m:\u001b[0m\u001b[0;34m\u001b[0m\u001b[0;34m\u001b[0m\u001b[0m\n\u001b[0;32m--> 355\u001b[0;31m             \u001b[0;32mraise\u001b[0m \u001b[0mJSONDecodeError\u001b[0m\u001b[0;34m(\u001b[0m\u001b[0;34m\"Expecting value\"\u001b[0m\u001b[0;34m,\u001b[0m \u001b[0ms\u001b[0m\u001b[0;34m,\u001b[0m \u001b[0merr\u001b[0m\u001b[0;34m.\u001b[0m\u001b[0mvalue\u001b[0m\u001b[0;34m)\u001b[0m \u001b[0;32mfrom\u001b[0m \u001b[0;32mNone\u001b[0m\u001b[0;34m\u001b[0m\u001b[0;34m\u001b[0m\u001b[0m\n\u001b[0m\u001b[1;32m    356\u001b[0m         \u001b[0;32mreturn\u001b[0m \u001b[0mobj\u001b[0m\u001b[0;34m,\u001b[0m \u001b[0mend\u001b[0m\u001b[0;34m\u001b[0m\u001b[0;34m\u001b[0m\u001b[0m\n",
      "\u001b[0;31mJSONDecodeError\u001b[0m: Expecting value: line 4 column 1 (char 3)"
     ]
    }
   ],
   "source": [
    "# ex. 6.2.5. Build the paging links\n",
    "\n",
    "# It may take som time to run\n",
    "# You'll find 1000+ links\n",
    "company_listings = []\n",
    "for link in links: \n",
    "    if 'support.trustpilot' in link:\n",
    "        continue\n",
    "    company_listings+=get_all_category_pages(link)\n",
    "print('We need to visit %d company listing pages to collect all company addresses'%len(company_listings))"
   ]
  },
  {
   "cell_type": "code",
   "execution_count": 20,
   "metadata": {},
   "outputs": [],
   "source": [
    "# ex. 6.2.6\n",
    "company_links = get_company_links(random.choice(company_listings)) # use the above defined function"
   ]
  },
  {
   "cell_type": "code",
   "execution_count": 40,
   "metadata": {},
   "outputs": [
    {
     "data": {
      "text/html": [
       "<div>\n",
       "<style scoped>\n",
       "    .dataframe tbody tr th:only-of-type {\n",
       "        vertical-align: middle;\n",
       "    }\n",
       "\n",
       "    .dataframe tbody tr th {\n",
       "        vertical-align: top;\n",
       "    }\n",
       "\n",
       "    .dataframe thead th {\n",
       "        text-align: right;\n",
       "    }\n",
       "</style>\n",
       "<table border=\"1\" class=\"dataframe\">\n",
       "  <thead>\n",
       "    <tr style=\"text-align: right;\">\n",
       "      <th></th>\n",
       "      <th>@type</th>\n",
       "      <th>itemReviewed</th>\n",
       "      <th>author</th>\n",
       "      <th>datePublished</th>\n",
       "      <th>headline</th>\n",
       "      <th>reviewBody</th>\n",
       "      <th>reviewRating</th>\n",
       "      <th>publisher</th>\n",
       "      <th>inLanguage</th>\n",
       "    </tr>\n",
       "  </thead>\n",
       "  <tbody>\n",
       "    <tr>\n",
       "      <th>@type</th>\n",
       "      <td>Review</td>\n",
       "      <td>Thing</td>\n",
       "      <td>Person</td>\n",
       "      <td>2020-07-25T10:19:44Z</td>\n",
       "      <td>Perfect in every way.</td>\n",
       "      <td>Perfect in every way.</td>\n",
       "      <td>Rating</td>\n",
       "      <td>Organization</td>\n",
       "      <td>en</td>\n",
       "    </tr>\n",
       "    <tr>\n",
       "      <th>name</th>\n",
       "      <td>Review</td>\n",
       "      <td>Byapptonly</td>\n",
       "      <td>Adrienne</td>\n",
       "      <td>2020-07-25T10:19:44Z</td>\n",
       "      <td>Perfect in every way.</td>\n",
       "      <td>Perfect in every way.</td>\n",
       "      <td>NaN</td>\n",
       "      <td>Trustpilot</td>\n",
       "      <td>en</td>\n",
       "    </tr>\n",
       "    <tr>\n",
       "      <th>url</th>\n",
       "      <td>Review</td>\n",
       "      <td>NaN</td>\n",
       "      <td>https://www.trustpilot.com/users/5f1c065af6abf...</td>\n",
       "      <td>2020-07-25T10:19:44Z</td>\n",
       "      <td>Perfect in every way.</td>\n",
       "      <td>Perfect in every way.</td>\n",
       "      <td>NaN</td>\n",
       "      <td>NaN</td>\n",
       "      <td>en</td>\n",
       "    </tr>\n",
       "    <tr>\n",
       "      <th>image</th>\n",
       "      <td>Review</td>\n",
       "      <td>NaN</td>\n",
       "      <td>https://user-images.trustpilot.com/5f1c065af6a...</td>\n",
       "      <td>2020-07-25T10:19:44Z</td>\n",
       "      <td>Perfect in every way.</td>\n",
       "      <td>Perfect in every way.</td>\n",
       "      <td>NaN</td>\n",
       "      <td>NaN</td>\n",
       "      <td>en</td>\n",
       "    </tr>\n",
       "    <tr>\n",
       "      <th>bestRating</th>\n",
       "      <td>Review</td>\n",
       "      <td>NaN</td>\n",
       "      <td>NaN</td>\n",
       "      <td>2020-07-25T10:19:44Z</td>\n",
       "      <td>Perfect in every way.</td>\n",
       "      <td>Perfect in every way.</td>\n",
       "      <td>5</td>\n",
       "      <td>NaN</td>\n",
       "      <td>en</td>\n",
       "    </tr>\n",
       "  </tbody>\n",
       "</table>\n",
       "</div>"
      ],
      "text/plain": [
       "             @type itemReviewed  \\\n",
       "@type       Review        Thing   \n",
       "name        Review   Byapptonly   \n",
       "url         Review          NaN   \n",
       "image       Review          NaN   \n",
       "bestRating  Review          NaN   \n",
       "\n",
       "                                                       author  \\\n",
       "@type                                                  Person   \n",
       "name                                                 Adrienne   \n",
       "url         https://www.trustpilot.com/users/5f1c065af6abf...   \n",
       "image       https://user-images.trustpilot.com/5f1c065af6a...   \n",
       "bestRating                                                NaN   \n",
       "\n",
       "                   datePublished               headline  \\\n",
       "@type       2020-07-25T10:19:44Z  Perfect in every way.   \n",
       "name        2020-07-25T10:19:44Z  Perfect in every way.   \n",
       "url         2020-07-25T10:19:44Z  Perfect in every way.   \n",
       "image       2020-07-25T10:19:44Z  Perfect in every way.   \n",
       "bestRating  2020-07-25T10:19:44Z  Perfect in every way.   \n",
       "\n",
       "                       reviewBody reviewRating     publisher inLanguage  \n",
       "@type       Perfect in every way.       Rating  Organization         en  \n",
       "name        Perfect in every way.          NaN    Trustpilot         en  \n",
       "url         Perfect in every way.          NaN           NaN         en  \n",
       "image       Perfect in every way.          NaN           NaN         en  \n",
       "bestRating  Perfect in every way.            5           NaN         en  "
      ]
     },
     "execution_count": 40,
     "metadata": {},
     "output_type": "execute_result"
    }
   ],
   "source": [
    "# ex. 6.2.7\n",
    "direct_link = 'https://www.trustpilot.com/reviews/5f1c07401a5a69075066f63d/jsonld'\n",
    "response, call_id = connector.get(direct_link, 'download_review')\n",
    "d = response.json() # parse json using the build-in function.\n",
    "df = pd.DataFrame(d)\n",
    "df.head()"
   ]
  },
  {
   "cell_type": "markdown",
   "metadata": {},
   "source": [
    "Congratulations on coming this far. By now you are almost - still need to figure out how to page the reviews and to find the company ID in the html -, ready to deploy a scraper collecting all reviews on trustpilot. \n",
    "If you wanna see just how valuable such data could be visit the follow blogpost: https://blog.openai.com/unsupervised-sentiment-neuron/"
   ]
  }
 ],
 "metadata": {
  "kernelspec": {
   "display_name": "Python 3",
   "language": "python",
   "name": "python3"
  },
  "language_info": {
   "codemirror_mode": {
    "name": "ipython",
    "version": 3
   },
   "file_extension": ".py",
   "mimetype": "text/x-python",
   "name": "python",
   "nbconvert_exporter": "python",
   "pygments_lexer": "ipython3",
   "version": "3.7.6"
  },
  "latex_envs": {
   "bibliofile": "biblio.bib",
   "cite_by": "apalike",
   "current_citInitial": 1,
   "eqLabelWithNumbers": true,
   "eqNumInitial": 0
  },
  "nav_menu": {},
  "toc": {
   "nav_menu": {
    "height": "87px",
    "width": "252px"
   },
   "navigate_menu": true,
   "number_sections": false,
   "sideBar": true,
   "threshold": 6,
   "toc_cell": false,
   "toc_section_display": "block",
   "toc_window_display": true
  }
 },
 "nbformat": 4,
 "nbformat_minor": 2
}
